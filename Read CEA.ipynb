{
 "cells": [
  {
   "cell_type": "code",
   "execution_count": 15,
   "metadata": {},
   "outputs": [
    {
     "name": "stdout",
     "output_type": "stream",
     "text": [
      "P: [1, 1, 1, 2, 2, 2, 3, 3, 3]\n",
      "T: [1, 2, 3, 1, 2, 3, 1, 2, 3]\n",
      "h: [1, 2, 3, 2, 4, 6, 3, 6, 9]\n",
      "[[1 2 3]\n",
      " [2 4 6]\n",
      " [3 6 9]]\n"
     ]
    }
   ],
   "source": [
    "import numpy as np\n",
    "\n",
    "P = [1,1,1,2,2,2,3,3,3]\n",
    "T = list(range(1,4))*3\n",
    "h = [P[i] * T[i] for i in range(len(P))]\n",
    "\n",
    "nT = 3\n",
    "nP = 3\n",
    "#Ptable = [[P[i*nT+j] for j in range(nP)] for i in range(nT)]\n",
    "table = lambda x: np.array([[x[i*nT+j] for j in range(nP)] for i in range(nT)])\n",
    "print(table(h))\n"
   ]
  }
 ],
 "metadata": {
  "kernelspec": {
   "display_name": "Python 3.9.7 64-bit",
   "language": "python",
   "name": "python3"
  },
  "language_info": {
   "codemirror_mode": {
    "name": "ipython",
    "version": 3
   },
   "file_extension": ".py",
   "mimetype": "text/x-python",
   "name": "python",
   "nbconvert_exporter": "python",
   "pygments_lexer": "ipython3",
   "version": "3.9.7"
  },
  "orig_nbformat": 4,
  "vscode": {
   "interpreter": {
    "hash": "72f235a78b5cf937fd09c1593b6a0e4473f824a03930b62c2c7d9a177b9de8f3"
   }
  }
 },
 "nbformat": 4,
 "nbformat_minor": 2
}
