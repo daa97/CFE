{
 "cells": [
  {
   "cell_type": "code",
   "execution_count": 1,
   "metadata": {},
   "outputs": [],
   "source": [
    "from fluids import H2\n",
    "import numpy as np\n",
    "import matplotlib.pyplot as plt\n",
    "import matplotlib as mpl\n",
    "mpl.rc('font', family='Times New Roman',size=\"10\")\n",
    "mpl.rc('figure', figsize=(4.8,3.6))\n",
    "mpl.rc('legend', labelspacing=0.15)\n",
    "mpl.rc('savefig', dpi=800)\n",
    "mpl.rc('lines', linewidth=1.2)\n",
    "mpl.rc('axes', grid=True)\n",
    "mpl.rc('grid', linewidth=0.25)\n",
    "mpl.rc('mathtext', fontset=\"dejavuserif\")\n",
    "mpl.rc('xtick.minor', visible=True, size=1.5, width=0.5)\n",
    "mpl.rc('ytick.minor', visible=True, size=1.5, width=0.5)\n",
    "plt.rcParams['figure.constrained_layout.use'] =  True"
   ]
  },
  {
   "cell_type": "code",
   "execution_count": 2,
   "metadata": {},
   "outputs": [],
   "source": [
    "base = {\"P_core\":10e6,\n",
    "        \"T_channel\":450,\n",
    "        \"r5\":56e-3,\n",
    "        \"d56\":8e-3,\n",
    "        \"N\":7000,\n",
    "        \"nu_s\":0.693,\n",
    "        \"L_CFE\":.84,\n",
    "        \"T_core\":3700}\n",
    "\n",
    "stdlim = [0.5, 2]\n",
    "vary = {\"P_core\":stdlim,\n",
    "        \"T_channel\":stdlim,\n",
    "        \"r5\":[0.93,1.5],\n",
    "        \"d56\":stdlim,\n",
    "        \"N\":stdlim,\n",
    "        \"nu_s\":[0.5,1.08],\n",
    "        \"L_CFE\":stdlim}\n",
    "\n",
    "labels = {\"P_core\":\"core pressure $P_3$\", \n",
    "        \"T_channel\":\"channel temperature $T_1$\",\n",
    "        \"r5\":\"case radius $r_5$\",\n",
    "        \"d56\":\"outer channel width $(r_6 - r_5)$\",\n",
    "        \"N\":\"CFE rotation rate $\\omega$\",\n",
    "        \"nu_s\":\"isentropic vel. ratio $\\\\nu_s$\",\n",
    "        \"L_CFE\":\"CFE length $l$\"}\n",
    "cols = {\"P_core\":\"k\",\n",
    "        \"T_channel\":\"b\",\n",
    "        \"r5\":[1,0.9,0],\n",
    "        \"d56\":[.14, .75, .196],\n",
    "        \"N\":\"red\",\n",
    "        \"nu_s\":\"gray\",\n",
    "        \"L_CFE\":\"hotpink\"}\n",
    "\n",
    "yvals = dict()\n",
    "xvals = dict()\n",
    "\n",
    "base_core = H2(P=base[\"P_core\"], T=base[\"T_core\"])      # speed code up by not calculating on every single loop"
   ]
  },
  {
   "cell_type": "code",
   "execution_count": 6,
   "metadata": {},
   "outputs": [],
   "source": [
    "def sweep(name, ylabel, ylim=None, scale=1):\n",
    "    yvals = np.load(f\"{name}.npz\", allow_pickle=True)\n",
    "    n_pts = 50\n",
    "    print(ylabel, yvals[\"baseline\"])\n",
    "    for key in vary:       # plot each line\n",
    "        lim = vary[key]                 # relative property value limits\n",
    "        xvals[key] = np.arange(lim[0], lim[1]+1e-5, np.diff(lim)/n_pts)\n",
    "        plt.plot(xvals[key], yvals[key]*scale, label=labels[key], color=cols[key])\n",
    "\n",
    "    plt.xlim(0.4,2.1)\n",
    "    if ylim is not None:\n",
    "        plt.ylim(ylim)\n",
    "    plt.legend(title=\"Normalized Parameter\", title_fontproperties={\"family\": \"Times New Roman:bold\"})\n",
    "    plt.xlabel(\"Parameter Normalized to Baseline Configuration\")\n",
    "    plt.ylabel(ylabel)\n",
    "    plt.savefig(f\"{name}2.svg\")\n",
    "    plt.show()"
   ]
  },
  {
   "cell_type": "code",
   "execution_count": 8,
   "metadata": {},
   "outputs": [
    {
     "ename": "NameError",
     "evalue": "name 's' is not defined",
     "output_type": "error",
     "traceback": [
      "\u001b[1;31m---------------------------------------------------------------------------\u001b[0m",
      "\u001b[1;31mNameError\u001b[0m                                 Traceback (most recent call last)",
      "\u001b[1;32m~\\AppData\\Local\\Temp\\ipykernel_11464\\3166655501.py\u001b[0m in \u001b[0;36m<module>\u001b[1;34m\u001b[0m\n\u001b[0;32m      4\u001b[0m \u001b[1;31m#weep(f\"{dir}/eta\", \"Turbine Efficiency\", ylim=(.75,.95))\u001b[0m\u001b[1;33m\u001b[0m\u001b[1;33m\u001b[0m\u001b[0m\n\u001b[0;32m      5\u001b[0m \u001b[1;31m#sweep(f\"{dir}/radius\", \"Turbine Radius (cm)\", scale=100)\u001b[0m\u001b[1;33m\u001b[0m\u001b[1;33m\u001b[0m\u001b[0m\n\u001b[1;32m----> 6\u001b[1;33m \u001b[0msweep\u001b[0m\u001b[1;33m(\u001b[0m\u001b[1;34mf\"{dir}/{s}\"\u001b[0m\u001b[1;33m,\u001b[0m \u001b[1;34m\"CFE mass (kg)\"\u001b[0m\u001b[1;33m,\u001b[0m \u001b[0mscale\u001b[0m\u001b[1;33m=\u001b[0m\u001b[1;36m1\u001b[0m\u001b[1;33m)\u001b[0m\u001b[1;33m\u001b[0m\u001b[1;33m\u001b[0m\u001b[0m\n\u001b[0m\u001b[0;32m      7\u001b[0m \u001b[1;31m#sweep(f\"{dir}/W_bear\", \"Bearing Losses (W)\", scale=1)\u001b[0m\u001b[1;33m\u001b[0m\u001b[1;33m\u001b[0m\u001b[0m\n",
      "\u001b[1;31mNameError\u001b[0m: name 's' is not defined"
     ]
    }
   ],
   "source": [
    "dir = \"turbine_sweep\"\n",
    "#savenames = ['eta', 'W_bear', 'W_visc', 'W', 'radius', 'mass']\n",
    "#sweep(f\"{dir}/W\", \"Turbine Work Rate (W)\", ylim=(0,600), scale=1)\n",
    "#weep(f\"{dir}/eta\", \"Turbine Efficiency\", ylim=(.75,.95))\n",
    "#sweep(f\"{dir}/radius\", \"Turbine Radius (cm)\", scale=100)\n",
    "sweep(f\"{dir}/{{s}}\", \"CFE mass (kg)\", scale=1)\n",
    "#sweep(f\"{dir}/W_bear\", \"Bearing Losses (W)\", scale=1)\n"
   ]
  },
  {
   "cell_type": "code",
   "execution_count": null,
   "metadata": {},
   "outputs": [
    {
     "data": {
      "text/plain": [
       "(0.19607843137254902, 0.803921568627451, 0.19607843137254902)"
      ]
     },
     "execution_count": 18,
     "metadata": {},
     "output_type": "execute_result"
    }
   ],
   "source": [
    "mpl.colors.to_rgb(\"limegreen\")"
   ]
  }
 ],
 "metadata": {
  "kernelspec": {
   "display_name": "base",
   "language": "python",
   "name": "python3"
  },
  "language_info": {
   "codemirror_mode": {
    "name": "ipython",
    "version": 3
   },
   "file_extension": ".py",
   "mimetype": "text/x-python",
   "name": "python",
   "nbconvert_exporter": "python",
   "pygments_lexer": "ipython3",
   "version": "3.9.13"
  },
  "orig_nbformat": 4,
  "vscode": {
   "interpreter": {
    "hash": "ea8238db6dc1fe8cf6fe83219457bde9bcbcde2053d40c59d2e78211d10c5fee"
   }
  }
 },
 "nbformat": 4,
 "nbformat_minor": 2
}
