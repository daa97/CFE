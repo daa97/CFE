{
 "cells": [
  {
   "cell_type": "code",
   "execution_count": 2,
   "metadata": {},
   "outputs": [],
   "source": [
    "from pyfluids import Fluid, Input, FluidsList\n",
    "import numpy as np, csv\n",
    "\n",
    "n=40\n",
    "trunc = lambda x: round(x,min(-int(np.floor(np.log10(abs(x))))+4,0))\n",
    "air = Fluid(FluidsList.Air)\n",
    "P = np.array([trunc(10**(x/n)) for x in range(2*n,int(6.5*n)+1)]).transpose()\n",
    "T = np.arange(150, 1500, 5, dtype=int)\n",
    "R_ideal = 8.3144598\n",
    "props = [\"VOLUME\",\"CONDUCTIVITY\",\"Cp\",\"G\", \"GAMMAs\", \"H\", \"M\", \"PRANDTL_NUMBER\", \"RHO\", \"S\", \"SON_VEL\", \"U\", \"VISC\"]\n",
    "tabs = dict()\n",
    "for p in props:\n",
    "    tabs[p] = np.zeros((T.shape[0]+1, P.shape[0]+1))\n",
    "    tabs[p][0,1:] = P\n",
    "    tabs[p][1:,0] = T.transpose()\n",
    "for i in range(1,P.shape[0]+1):\n",
    "    for j in range(1,T.shape[0]+1):\n",
    "        Pin = Input.pressure(P[i-1])\n",
    "        Tin = Input.temperature(T[j-1]-273.15)\n",
    "        s = air.with_state(Pin, Tin)\n",
    "        tabs[\"RHO\"][j,i] = s.density\n",
    "        tabs[\"H\"][j,i] = s.enthalpy\n",
    "        tabs[\"S\"][j,i] = s.entropy\n",
    "        tabs[\"Cp\"][j,i] = s.specific_heat\n",
    "        tabs[\"VOLUME\"][j,i] = 1/s.density\n",
    "        tabs[\"VISC\"][j,i] = s.dynamic_viscosity\n",
    "        tabs[\"U\"][j,i] = s.internal_energy\n",
    "        tabs[\"PRANDTL_NUMBER\"][j,i] = s.prandtl\n",
    "        tabs[\"M\"][j,i] = s.molar_mass\n",
    "        tabs[\"GAMMAs\"][j,i] = 1 + R_ideal/(s.specific_heat*s.molar_mass - R_ideal)\n",
    "        tabs[\"CONDUCTIVITY\"][j,i] = s.conductivity\n",
    "        tabs[\"SON_VEL\"][j,i] = s.sound_speed\n",
    "#print(tabs[\"M\"])"
   ]
  },
  {
   "cell_type": "code",
   "execution_count": 3,
   "metadata": {},
   "outputs": [],
   "source": [
    "for prop, tab in tabs.items():\n",
    "    with open(f\"air/{prop}.csv\", mode=\"w\") as f:\n",
    "        writer = csv.writer(f, lineterminator=\"\\n\")\n",
    "        writer.writerows(tab)\n",
    "s"
   ]
  }
 ],
 "metadata": {
  "kernelspec": {
   "display_name": "base",
   "language": "python",
   "name": "python3"
  },
  "language_info": {
   "codemirror_mode": {
    "name": "ipython",
    "version": 3
   },
   "file_extension": ".py",
   "mimetype": "text/x-python",
   "name": "python",
   "nbconvert_exporter": "python",
   "pygments_lexer": "ipython3",
   "version": "3.9.13"
  },
  "orig_nbformat": 4,
  "vscode": {
   "interpreter": {
    "hash": "ea8238db6dc1fe8cf6fe83219457bde9bcbcde2053d40c59d2e78211d10c5fee"
   }
  }
 },
 "nbformat": 4,
 "nbformat_minor": 2
}
