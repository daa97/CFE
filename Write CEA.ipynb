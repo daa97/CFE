{
 "cells": [
  {
   "cell_type": "code",
   "execution_count": 1,
   "metadata": {},
   "outputs": [],
   "source": [
    "import numpy as np\n",
    "batch = 15\n",
    "dir = \"CEAexec\\\\CEAexec-win\\\\\"\n",
    "infile = \"template.inp\"\n",
    "\n",
    "# **********Step 1: Create CEA input.inp files***********\n",
    "\n",
    "rang = np.array([[1, 1.1, 1.2, 1.32, 1.48, 1.65, 1.8, 2, 2.25, 2.5, 2.8, 3.1, 3.5, 3.9, 4.4, 4.9, 5.4, 6, 6.7, 7.4, 8.25, 9.1]])\n",
    "P = rang * np.array([[10**x for x in range(-3,3)]]).transpose()\n",
    "P = np.round(P, 6)\n",
    "P = P.flatten()\n",
    "T1 = np.arange(300, 1e3, 5, dtype=int)\n",
    "T2 = np.arange(1e3, 8e3, 10, dtype=int)\n",
    "T = np.concatenate((T1, T2))\n",
    "fnames = []\n",
    "\n",
    "for i in range(int(np.ceil(len(P)/batch))):\n",
    "    for j in range(int(np.ceil(len(T)/batch))):\n",
    "        Pvals = P[i*batch:min(len(P),(i+1)*batch)]\n",
    "        Tvals = T[j*batch:min(len(T),(j+1)*batch)]\n",
    "        Pstr = ','.join([str(pi) for pi in Pvals.tolist()])\n",
    "        Tstr = ','.join([str(ti) for ti in Tvals.tolist()])\n",
    "        with open(dir+infile, mode='r') as fread:\n",
    "            contents = fread.read()\n",
    "        contents = contents.replace(\"<PYPRES>\", Pstr)\n",
    "        contents = contents.replace(\"<PYTEMP>\", Tstr)\n",
    "        writename = f\"AUTOFILE_P{i}T{j}\"\n",
    "        fnames.append(writename)\n",
    "        with open(dir+writename+'.inp', mode='w') as fwrite:\n",
    "            fwrite.write(contents)"
   ]
  },
  {
   "cell_type": "code",
   "execution_count": 2,
   "metadata": {},
   "outputs": [],
   "source": [
    "# **********Step 2: Run CEA to produce output.out files***********\n",
    "import os\n",
    "import subprocess as sp\n",
    "if not (\"CEAexec-win\" in os.getcwd()):\n",
    "    os.chdir(\"C:/Users/david/OneDrive - Drexel University/Documents/GitHub/CFE/CEAexec/CEAexec-win\")\n",
    "for file in fnames:\n",
    "    sub = sp.run([\"echo\", f\"{file}\", \"|\", \"FCEA2.exe\"], stdout=sp.PIPE, stderr=sp.PIPE, shell=True)\n"
   ]
  },
  {
   "cell_type": "code",
   "execution_count": 12,
   "metadata": {},
   "outputs": [],
   "source": [
    "# **********Step 3: Read output files into dictionary ***********\n",
    "\n",
    "thermo = {\"P, BAR\":[], \"T, K\":[], \"RHO, KG/CU M\":[], \"H, KJ/KG\":[], \"U, KJ/KG\":[], \n",
    "          \"G, KJ/KG\":[], \"S, KJ/(KG)(K)\":[], \"M, (1/n)\":[], \"AMMAs\":[], \"ON VEL,M/SEC\":[], \"VISC,MILLIPOISE\":[]}\n",
    "frozenheader = \"WITH FROZEN REACTIONS\"\n",
    "frozenend = \"WITH EQUILIBRIUM REACTIONS\"\n",
    "frozen = False\n",
    "transp = {\"Cp, KJ/(KG)(K)\":[], \"DUCTIVITY   \":[],\"L NUMBER\":[]}\n",
    "\n",
    "# iterate over output files\n",
    "for f in fnames:\n",
    "\n",
    "    # open each file\n",
    "    with open(f+\".OUT\") as file:\n",
    "        lines = file.readlines()\n",
    "\n",
    "    # iterate over each line of the file\n",
    "    for textline in lines:\n",
    "\n",
    "        if frozenheader in textline:\n",
    "            frozen = True\n",
    "        elif frozenend in textline:\n",
    "            frozen = False\n",
    "\n",
    "        # go through thermodynamic properties\n",
    "        for dictkey, dictvalue in thermo.items():\n",
    "            # Check if the property is references in that line\n",
    "            if dictkey in textline:\n",
    "                if len(textline)>16:\n",
    "                    numtext = textline[16:]\n",
    "                    columns=[]\n",
    "                    for i in range(0,len(numtext)-8,9):\n",
    "                        columns.append(numtext[i:i+9])\n",
    "                else:\n",
    "                    continue\n",
    "                # start \n",
    "                for property_text in columns:\n",
    "                    if property_text[-2]=='-' or property_text[-2]==' ':\n",
    "                        propval = float(property_text[:-2])*10**float(property_text[-2:])\n",
    "                    else:\n",
    "                        propval = float(property_text)\n",
    "                    dictvalue.append(propval)\n",
    "\n",
    "        if frozen:\n",
    "            for dictkey, dictvalue in transp.items():\n",
    "                # Check if the property is references in that line\n",
    "                if dictkey in textline:\n",
    "                    if len(textline)>16:\n",
    "                        numtext = textline[16:]\n",
    "                        columns=[]\n",
    "                        for i in range(0,len(numtext)-8,9):\n",
    "                            columns.append(numtext[i:i+9])\n",
    "                    else:\n",
    "                        continue\n",
    "                    # start \n",
    "                    for property_text in columns:\n",
    "                        if property_text[-2]=='-' or property_text[-2]==' ':\n",
    "                            propval = float(property_text[:-2])*10**float(property_text[-2:])\n",
    "                        else:\n",
    "                            propval = float(property_text)\n",
    "                        dictvalue.append(propval)"
   ]
  },
  {
   "cell_type": "code",
   "execution_count": 28,
   "metadata": {},
   "outputs": [
    {
     "name": "stdout",
     "output_type": "stream",
     "text": [
      "IN FUNC\n",
      "(840, 132)\n",
      "(840, 132)\n",
      "(840, 132)\n",
      "(840, 132)\n",
      "(840, 132)\n",
      "(840, 132)\n",
      "(840, 132)\n",
      "(840, 132)\n",
      "(840, 132)\n",
      "IN FUNC\n"
     ]
    },
    {
     "ename": "KeyError",
     "evalue": "'P, BAR'",
     "output_type": "error",
     "traceback": [
      "\u001b[1;31m---------------------------------------------------------------------------\u001b[0m",
      "\u001b[1;31mKeyError\u001b[0m                                  Traceback (most recent call last)",
      "Cell \u001b[1;32mIn [28], line 31\u001b[0m\n\u001b[0;32m     28\u001b[0m                 writer\u001b[39m.\u001b[39mwriterows(tab)\n\u001b[0;32m     30\u001b[0m writecsv(thermo)\n\u001b[1;32m---> 31\u001b[0m writecsv(transp)\n",
      "Cell \u001b[1;32mIn [28], line 19\u001b[0m, in \u001b[0;36mwritecsv\u001b[1;34m(dictionary)\u001b[0m\n\u001b[0;32m     17\u001b[0m csv_fname \u001b[39m=\u001b[39m \u001b[39m'\u001b[39m\u001b[39m'\u001b[39m\u001b[39m.\u001b[39mjoin(\u001b[39mfilter\u001b[39m(\u001b[39mstr\u001b[39m\u001b[39m.\u001b[39misalpha, key)) \u001b[39m+\u001b[39m \u001b[39m\"\u001b[39m\u001b[39m.csv\u001b[39m\u001b[39m\"\u001b[39m\n\u001b[0;32m     18\u001b[0m \u001b[39m# loop through every value of the property\u001b[39;00m\n\u001b[1;32m---> 19\u001b[0m \u001b[39mfor\u001b[39;00m i \u001b[39min\u001b[39;00m \u001b[39mrange\u001b[39m(\u001b[39mlen\u001b[39m(dictionary[\u001b[39m\"\u001b[39;49m\u001b[39mP, BAR\u001b[39;49m\u001b[39m\"\u001b[39;49m])):\n\u001b[0;32m     20\u001b[0m     P_idx \u001b[39m=\u001b[39m np\u001b[39m.\u001b[39mwhere(P\u001b[39m==\u001b[39mdictionary[\u001b[39m\"\u001b[39m\u001b[39mP, BAR\u001b[39m\u001b[39m\"\u001b[39m][i])\n\u001b[0;32m     21\u001b[0m     T_idx \u001b[39m=\u001b[39m np\u001b[39m.\u001b[39mwhere(T\u001b[39m==\u001b[39mdictionary[\u001b[39m\"\u001b[39m\u001b[39mT, K\u001b[39m\u001b[39m\"\u001b[39m][i])\n",
      "\u001b[1;31mKeyError\u001b[0m: 'P, BAR'"
     ]
    }
   ],
   "source": [
    "# **********Step 4: Organize dictionary into arrays and write to CSVs ***********\n",
    "import csv\n",
    "def writecsv(dictionary):\n",
    "    # set up first row and first column containing pressure and temperature values\n",
    "    col1 = np.zeros((len(T),1))\n",
    "    col1[:,0]=T\n",
    "    row1 = np.zeros((1,len(P)+1))\n",
    "    row1[0,1:]=P\n",
    "    print(\"IN FUNC\")\n",
    "    # loop through each property\n",
    "    for key in dictionary.keys():\n",
    "        # create an empty array for property\n",
    "        tab = np.zeros((len(T), len(P)))\n",
    "        tab[:] = np.nan\n",
    "        # do not generate pressure and temperature tables as these serve as our axes\n",
    "        if key!=\"P, BAR\" and key!=\"T, K\":\n",
    "            csv_fname = ''.join(filter(str.isalpha, key)) + \".csv\"\n",
    "            # loop through every value of the property\n",
    "            for i in range(len(dictionary[\"P, BAR\"])):\n",
    "                P_idx = np.where(P==dictionary[\"P, BAR\"][i])\n",
    "                T_idx = np.where(T==dictionary[\"T, K\"][i])\n",
    "                tab[T_idx, P_idx] = dictionary[key][i]\n",
    "            print(tab.shape)\n",
    "            tab = np.concatenate((col1,tab), axis=1)\n",
    "            tab = np.concatenate((row1,tab))\n",
    "            with open(csv_fname, mode='w', newline='') as csvfile:\n",
    "                writer = csv.writer(csvfile)\n",
    "                writer.writerows(tab)\n",
    "\n",
    "# add pressure and temperature values to transport dictionary\n",
    "transp[\"P, BAR\"] =thermo[\"P, BAR\"]\n",
    "transp[\"T, K\"] = thermo[\"T, K\"]\n",
    "writecsv(thermo)\n",
    "writecsv(transp)\n",
    "    \n",
    "    #Ptable = [[P[i*nT+j] for j in range(nP)] for i in range(nT)]\n",
    "    #table = lambda x: np.array([[x[i*nT+j] for j in range(nP)] for i in range(nT)])\n"
   ]
  },
  {
   "cell_type": "code",
   "execution_count": null,
   "metadata": {},
   "outputs": [],
   "source": [
    "# ************************ Step 5 (Optional): Delete CEA files ************************\n",
    "delete = False\n",
    "if delete:\n",
    "    for file in os.listdir():\n",
    "        if \"AUTOFILE_\" in file:\n",
    "            os.remove(file)\n",
    "\n"
   ]
  },
  {
   "cell_type": "code",
   "execution_count": null,
   "metadata": {},
   "outputs": [
    {
     "name": "stdout",
     "output_type": "stream",
     "text": [
      "[True, True, True, True, True, True, True, True]\n"
     ]
    },
    {
     "ename": "TypeError",
     "evalue": "string indices must be integers",
     "output_type": "error",
     "traceback": [
      "\u001b[1;31m---------------------------------------------------------------------------\u001b[0m",
      "\u001b[1;31mTypeError\u001b[0m                                 Traceback (most recent call last)",
      "Cell \u001b[1;32mIn [24], line 5\u001b[0m\n\u001b[0;32m      3\u001b[0m B \u001b[39m=\u001b[39m [a\u001b[39m.\u001b[39misalnum() \u001b[39mfor\u001b[39;00m a \u001b[39min\u001b[39;00m A]\n\u001b[0;32m      4\u001b[0m \u001b[39mprint\u001b[39m(B)\n\u001b[1;32m----> 5\u001b[0m A[B]\n",
      "\u001b[1;31mTypeError\u001b[0m: string indices must be integers"
     ]
    }
   ],
   "source": [
    "\n",
    "\n",
    "\n",
    "A = \"abcdefge\"\n",
    "A.isalnum()\n",
    "B = [a.isalnum() for a in A]\n",
    "\n",
    "filter(A, A)\n",
    "print(B)\n",
    "A[B]"
   ]
  }
 ],
 "metadata": {
  "kernelspec": {
   "display_name": "Python 3.9.7 64-bit",
   "language": "python",
   "name": "python3"
  },
  "language_info": {
   "codemirror_mode": {
    "name": "ipython",
    "version": 3
   },
   "file_extension": ".py",
   "mimetype": "text/x-python",
   "name": "python",
   "nbconvert_exporter": "python",
   "pygments_lexer": "ipython3",
   "version": "3.9.7"
  },
  "orig_nbformat": 4,
  "vscode": {
   "interpreter": {
    "hash": "72f235a78b5cf937fd09c1593b6a0e4473f824a03930b62c2c7d9a177b9de8f3"
   }
  }
 },
 "nbformat": 4,
 "nbformat_minor": 2
}
