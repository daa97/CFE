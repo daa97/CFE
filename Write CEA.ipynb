{
 "cells": [
  {
   "cell_type": "code",
   "execution_count": 1,
   "metadata": {},
   "outputs": [],
   "source": [
    "import numpy as np\n",
    "batch = 20\n",
    "dir = \"CEAexec\\\\CEAexec-win\\\\\"\n",
    "infile = \"template.inp\"\n",
    "\n",
    "# **********Step 1: Create CEA input.inp files***********\n",
    "\n",
    "rang = np.array([[1, 1.25, 1.5, 2, 2.5, 3, 4, 5, 6.25, 8]])\n",
    "P = rang * np.array([[10**x for x in range(-3,3)]]).transpose()\n",
    "P = P.flatten()\n",
    "T1 = np.arange(100, 1e3, 10, dtype=int)\n",
    "T2 = np.arange(1e3, 1e4, 50, dtype=int)\n",
    "T = np.concatenate((T1, T2))\n",
    "fnames = []\n",
    "\n",
    "for i in range(int(np.ceil(len(P)/batch))):\n",
    "    for j in range(int(np.ceil(len(T)/batch))):\n",
    "        Pvals = P[i*batch:min(len(P),(i+1)*batch)]\n",
    "        Tvals = T[j*batch:min(len(T),(j+1)*batch)]\n",
    "        Pstr = ','.join([str(pi) for pi in Pvals.tolist()])\n",
    "        Tstr = ','.join([str(ti) for ti in Tvals.tolist()])\n",
    "        with open(dir+infile, mode='r') as fread:\n",
    "            contents = fread.read()\n",
    "        contents = contents.replace(\"<PYPRES>\", Pstr)\n",
    "        contents = contents.replace(\"<PYTEMP>\", Tstr)\n",
    "        writename = f\"AUTOFILE_P{i}T{j}\"\n",
    "        fnames.append(writename)\n",
    "        with open(dir+writename+'.inp', mode='w') as fwrite:\n",
    "            fwrite.write(contents)"
   ]
  },
  {
   "cell_type": "code",
   "execution_count": 2,
   "metadata": {},
   "outputs": [],
   "source": [
    "# **********Step 2: Run CEA to produce output.out files***********\n",
    "import os\n",
    "import subprocess as sp\n",
    "if not (\"CEAexec-win\" in os.getcwd()):\n",
    "    os.chdir(\"C:/Users/david/OneDrive - Drexel University/Documents/GitHub/CFE/CEAexec/CEAexec-win\")\n",
    "for file in fnames:\n",
    "    sub = sp.run([\"echo\", f\"{file}\", \"|\", \"FCEA2.exe\"], stdout=sp.PIPE, stderr=sp.PIPE, shell=True)\n"
   ]
  },
  {
   "cell_type": "code",
   "execution_count": 3,
   "metadata": {},
   "outputs": [],
   "source": [
    "# **********Step 3: Read output files into dictionary ***********\n",
    "\n",
    "thermo = {\"P, BAR\":[], \"T, K\":[], \"RHO, KG/CU M\":[], \"H, KJ/KG\":[], \"U, KJ/KG\":[], \n",
    "          \"G, KJ/KG\":[], \"S, KJ/(KG)(K)\":[], \"Cp, KJ/(KG)(K)\":[], \"M, (1/n)\":[], \"AMMAs\":[]}\n",
    "transpheader = \"WITH FROZEN REACTIONS\"\n",
    "transp = {\"Cp, KJ/(KG)(K)\":[], \"CONDUCTIVITY\":[],\"PRANDTL NUMBER\":[]}\n",
    "\n",
    "# iterate over output files\n",
    "for f in fnames:\n",
    "\n",
    "    # open each file\n",
    "    with open(f+\".OUT\") as file:\n",
    "        lines = file.readlines()\n",
    "\n",
    "    # iterate over each line of the file\n",
    "    for textline in lines:\n",
    "\n",
    "        # go through thermodynamic properties\n",
    "        for dictkey, dictvalue in thermo.items():\n",
    "            # Check if the property is references in that line\n",
    "            if dictkey in textline:\n",
    "                if len(textline)>16:\n",
    "                    numtext = textline[16:]\n",
    "                    columns=[]\n",
    "                    for i in range(0,len(numtext)-8,9):\n",
    "                        columns.append(numtext[i:i+9])\n",
    "                else:\n",
    "                    continue\n",
    "                # start \n",
    "                for property_text in columns:\n",
    "                    if property_text[-2]=='-' or property_text[-2]==' ':\n",
    "                        propval = float(property_text[:-2])*10**float(property_text[-2:])\n",
    "                    else:\n",
    "                        propval = float(property_text)\n",
    "                    dictvalue.append(propval)\n",
    "                \n"
   ]
  },
  {
   "cell_type": "code",
   "execution_count": 4,
   "metadata": {},
   "outputs": [
    {
     "name": "stdout",
     "output_type": "stream",
     "text": [
      "(270, 60)\n",
      "(270, 60)\n",
      "(270, 60)\n",
      "(270, 60)\n",
      "(270, 60)\n",
      "(270, 60)\n",
      "(270, 60)\n"
     ]
    }
   ],
   "source": [
    "# **********Step 4: Organize dictionary into arrays and write to CSVs ***********\n",
    "import csv\n",
    "\n",
    "# set up first row and first column containing pressure and temperature values\n",
    "col1 = np.zeros((len(T),1))\n",
    "col1[:,0]=T\n",
    "row1 = np.zeros((1,len(P)+1))\n",
    "row1[0,1:]=P\n",
    "\n",
    "# loop through each property\n",
    "for key in thermo.keys():\n",
    "    # create an empty array for property\n",
    "    tab = np.zeros((len(T), len(P)))\n",
    "    tab[:] = np.nan\n",
    "\n",
    "    # do not generate pressure and temperature tables as these serve as our axes\n",
    "    if key!=\"P, BAR\" and key!=\"T, K\":\n",
    "\n",
    "        # loop through every value of the property\n",
    "        for i in range(len(thermo[\"P, BAR\"])):\n",
    "            P_idx = np.where(P==thermo[\"P, BAR\"][i])\n",
    "            T_idx = np.where(T==thermo[\"T, K\"][i])\n",
    "            tab[T_idx, P_idx] = thermo[key][i]\n",
    "        print(tab.shape)\n",
    "        tab = np.concatenate((col1,tab), axis=1)\n",
    "        tab = np.concatenate((row1,tab))\n",
    "        with open(f\"{key[0]}.csv\", mode='w', newline='') as csvfile:\n",
    "            writer = csv.writer(csvfile)\n",
    "\n",
    "            writer.writerows(tab)\n",
    "\n",
    "    \n",
    "\n",
    "#Ptable = [[P[i*nT+j] for j in range(nP)] for i in range(nT)]\n",
    "table = lambda x: np.array([[x[i*nT+j] for j in range(nP)] for i in range(nT)])\n"
   ]
  }
 ],
 "metadata": {
  "kernelspec": {
   "display_name": "Python 3.9.7 64-bit",
   "language": "python",
   "name": "python3"
  },
  "language_info": {
   "codemirror_mode": {
    "name": "ipython",
    "version": 3
   },
   "file_extension": ".py",
   "mimetype": "text/x-python",
   "name": "python",
   "nbconvert_exporter": "python",
   "pygments_lexer": "ipython3",
   "version": "3.9.7"
  },
  "orig_nbformat": 4,
  "vscode": {
   "interpreter": {
    "hash": "72f235a78b5cf937fd09c1593b6a0e4473f824a03930b62c2c7d9a177b9de8f3"
   }
  }
 },
 "nbformat": 4,
 "nbformat_minor": 2
}
