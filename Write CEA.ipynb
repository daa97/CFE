{
 "cells": [
  {
   "cell_type": "code",
   "execution_count": 1,
   "metadata": {},
   "outputs": [],
   "source": [
    "import numpy as np\n",
    "batch = 20\n",
    "dir = \"CEAexec\\\\CEAexec-win\\\\\"\n",
    "infile = \"template.inp\"\n",
    "\n",
    "rang = np.array([[1, 1.25, 1.5, 2, 2.5, 3, 4, 5, 6.25, 8]])\n",
    "P = rang * np.array([[10**x for x in range(-3,3)]]).transpose()\n",
    "P = P.flatten()\n",
    "T1 = np.arange(100, 1e3, 10, dtype=int)\n",
    "T2 = np.arange(1e3, 1e4, 50, dtype=int)\n",
    "T = np.concatenate((T1, T2))\n",
    "fnames = []\n",
    "\n",
    "for i in range(int(np.ceil(len(P)/batch))):\n",
    "    for j in range(int(np.ceil(len(T)/batch))):\n",
    "        Pvals = P[i*batch:min(len(P),(i+1)*batch)]\n",
    "        Tvals = T[j*batch:min(len(T),(j+1)*batch)]\n",
    "        Pstr = ','.join([str(pi) for pi in Pvals.tolist()])\n",
    "        Tstr = ','.join([str(ti) for ti in Tvals.tolist()])\n",
    "        with open(dir+infile, mode='r') as fread:\n",
    "            contents = fread.read()\n",
    "        contents = contents.replace(\"<PYPRES>\", Pstr)\n",
    "        contents = contents.replace(\"<PYTEMP>\", Tstr)\n",
    "        writename = f\"AUTOFILE_P{i}T{j}\"\n",
    "        fnames.append(writename)\n",
    "        with open(dir+writename+'.inp', mode='w') as fwrite:\n",
    "            fwrite.write(contents)"
   ]
  },
  {
   "cell_type": "code",
   "execution_count": 2,
   "metadata": {},
   "outputs": [],
   "source": [
    "import os\n",
    "import subprocess as sp\n",
    "if not (\"CEAexec-win\" in os.getcwd()):\n",
    "    os.chdir(\"C:/Users/david/OneDrive - Drexel University/Documents/GitHub/CFE/CEAexec/CEAexec-win\")\n",
    "for file in fnames:\n",
    "    sub = sp.run([\"echo\", f\"{file}\", \"|\", \"FCEA2.exe\"], stdout=sp.PIPE, stderr=sp.PIPE, shell=True)\n"
   ]
  },
  {
   "cell_type": "code",
   "execution_count": 18,
   "metadata": {},
   "outputs": [],
   "source": [
    "from matplotlib.pyplot import text\n",
    "\n",
    "\n",
    "thermo = {\"P, BAR\":[], \"T, K\":[], \"RHO, KG/CU M\":[], \"H, KJ/KG\":[], \"U, KJ/KG\":[], \"G, KJ/KG\":[], \"S, KJ/(KG)(K)\":[]}\n",
    "transpheader = \"WITH FROZEN REACTIONS\"\n",
    "transp = {\"Cp, KJ/(KG)(K)\":[], \"CONDUCTIVITY\":[],\"PRANDTL NUMBER\":[]}\n",
    "\n",
    "# iterate over output files\n",
    "for f in fnames:\n",
    "\n",
    "    # open each file\n",
    "    with open(f+\".OUT\") as file:\n",
    "        lines = file.readlines()\n",
    "\n",
    "    # iterate over each line of the file\n",
    "    for textline in lines:\n",
    "\n",
    "        # go through thermodynamic properties\n",
    "        for dictkey, dictvalue in thermo.items():\n",
    "            # Check if the property is references in that line\n",
    "            if dictkey in textline:\n",
    "                if len(textline)>16:\n",
    "                    numtext = textline[16:]\n",
    "                    columns=[]\n",
    "                    for i in range(0,len(numtext)-8,9):\n",
    "                        columns.append(numtext[i:i+9])\n",
    "                else:\n",
    "                    continue\n",
    "                # start \n",
    "                for property_text in columns:\n",
    "                    if property_text[-2]=='-' or property_text[-2]==' ':\n",
    "                        propval = float(property_text[:-2])*10**float(property_text[-2:])\n",
    "                    else:\n",
    "                        propval = float(property_text)\n",
    "                    dictvalue.append(propval)\n",
    "                \n"
   ]
  },
  {
   "cell_type": "code",
   "execution_count": 37,
   "metadata": {},
   "outputs": [
    {
     "name": "stdout",
     "output_type": "stream",
     "text": [
      "(270, 60) (270, 1)\n",
      "(270, 60)\n",
      "(271, 61)\n"
     ]
    },
    {
     "ename": "ValueError",
     "evalue": "all the input array dimensions for the concatenation axis must match exactly, but along dimension 0, the array at index 0 has size 270 and the array at index 1 has size 271",
     "output_type": "error",
     "traceback": [
      "\u001b[1;31m---------------------------------------------------------------------------\u001b[0m",
      "\u001b[1;31mValueError\u001b[0m                                Traceback (most recent call last)",
      "Cell \u001b[1;32mIn [37], line 20\u001b[0m\n\u001b[0;32m     18\u001b[0m     tab[T_idx, P_idx] \u001b[39m=\u001b[39m thermo[key][i]\n\u001b[0;32m     19\u001b[0m \u001b[39mprint\u001b[39m(tab\u001b[39m.\u001b[39mshape)\n\u001b[1;32m---> 20\u001b[0m tab \u001b[39m=\u001b[39m np\u001b[39m.\u001b[39mconcatenate((col1,tab), axis\u001b[39m=\u001b[39m\u001b[39m1\u001b[39m)\n\u001b[0;32m     21\u001b[0m tab \u001b[39m=\u001b[39m np\u001b[39m.\u001b[39mconcatenate((row1,tab))\n\u001b[0;32m     22\u001b[0m \u001b[39mwith\u001b[39;00m \u001b[39mopen\u001b[39m(\u001b[39mf\u001b[39m\u001b[39m\"\u001b[39m\u001b[39m{\u001b[39;00mkey[\u001b[39m0\u001b[39m]\u001b[39m}\u001b[39;00m\u001b[39m.csv\u001b[39m\u001b[39m\"\u001b[39m, mode\u001b[39m=\u001b[39m\u001b[39m'\u001b[39m\u001b[39mw\u001b[39m\u001b[39m'\u001b[39m, newline\u001b[39m=\u001b[39m\u001b[39m'\u001b[39m\u001b[39m'\u001b[39m) \u001b[39mas\u001b[39;00m csvfile:\n",
      "File \u001b[1;32m<__array_function__ internals>:180\u001b[0m, in \u001b[0;36mconcatenate\u001b[1;34m(*args, **kwargs)\u001b[0m\n",
      "\u001b[1;31mValueError\u001b[0m: all the input array dimensions for the concatenation axis must match exactly, but along dimension 0, the array at index 0 has size 270 and the array at index 1 has size 271"
     ]
    }
   ],
   "source": [
    "import numpy as np\n",
    "import csv\n",
    "\n",
    "\n",
    "col1 = np.zeros((len(T),1))\n",
    "col1[:,0]=T\n",
    "print(tab.shape, col1.shape)\n",
    "\n",
    "row1 = np.zeros((1,len(P)+1))\n",
    "row1[0,1:]=P\n",
    "\n",
    "for key in thermo.keys():\n",
    "    tab = np.zeros((len(T), len(P)))\n",
    "    tab[:] = np.nan\n",
    "    if key!=\"P, BAR\" and key!=\"T, K\":\n",
    "        for i in range(len(thermo[\"P, BAR\"])):\n",
    "            P_idx = np.where(P==thermo[\"P, BAR\"][i])\n",
    "            T_idx = np.where(T==thermo[\"T, K\"][i])\n",
    "            tab[T_idx, P_idx] = thermo[key][i]\n",
    "        print(tab.shape)\n",
    "        tab = np.concatenate((col1,tab), axis=1)\n",
    "        tab = np.concatenate((row1,tab))\n",
    "        with open(f\"{key[0]}.csv\", mode='w', newline='') as csvfile:\n",
    "            writer = csv.writer(csvfile)\n",
    "\n",
    "            writer.writerows(tab)\n",
    "\n",
    "    \n",
    "\n",
    "#Ptable = [[P[i*nT+j] for j in range(nP)] for i in range(nT)]\n",
    "table = lambda x: np.array([[x[i*nT+j] for j in range(nP)] for i in range(nT)])\n"
   ]
  }
 ],
 "metadata": {
  "kernelspec": {
   "display_name": "Python 3.9.7 64-bit",
   "language": "python",
   "name": "python3"
  },
  "language_info": {
   "codemirror_mode": {
    "name": "ipython",
    "version": 3
   },
   "file_extension": ".py",
   "mimetype": "text/x-python",
   "name": "python",
   "nbconvert_exporter": "python",
   "pygments_lexer": "ipython3",
   "version": "3.9.7"
  },
  "orig_nbformat": 4,
  "vscode": {
   "interpreter": {
    "hash": "72f235a78b5cf937fd09c1593b6a0e4473f824a03930b62c2c7d9a177b9de8f3"
   }
  }
 },
 "nbformat": 4,
 "nbformat_minor": 2
}
