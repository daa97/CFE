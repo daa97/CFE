{
 "cells": [
  {
   "cell_type": "code",
   "execution_count": 1,
   "metadata": {},
   "outputs": [],
   "source": [
    "import numpy as np, CEAio\n",
    "n=40\n",
    "trunc = lambda x: round(x,min(-int(np.floor(np.log10(abs(x))))+4,0))\n",
    "P = np.array([trunc(10**(x/n)) for x in range(2*n,7*n+1)]).transpose()\n",
    "T = np.arange(500, 8e3, 5, dtype=int)\n",
    "files = CEAio.write_inp(P,T)\n",
    "CEAio.run_cea(files)"
   ]
  },
  {
   "cell_type": "code",
   "execution_count": 2,
   "metadata": {},
   "outputs": [],
   "source": [
    "props = CEAio.read_out(files)\n",
    "props['VOLUME'] = 1/np.array(props[\"RHO, KG/CU M\"])"
   ]
  },
  {
   "cell_type": "code",
   "execution_count": 3,
   "metadata": {},
   "outputs": [
    {
     "name": "stdout",
     "output_type": "stream",
     "text": [
      "301500\n",
      "301500\n",
      "301500\n"
     ]
    }
   ],
   "source": [
    "print(len(props['P, BAR']))\n",
    "print(P.shape[0]*T.shape[0])\n",
    "print(len(props['H, KJ/KG']))"
   ]
  },
  {
   "cell_type": "code",
   "execution_count": 4,
   "metadata": {},
   "outputs": [],
   "source": [
    "tables = CEAio.tabulate(props, P, T)\n",
    "\n",
    "np.savez(\"CEAprops.npz\", **tables)"
   ]
  },
  {
   "cell_type": "code",
   "execution_count": 6,
   "metadata": {},
   "outputs": [],
   "source": [
    "m = tables['M']"
   ]
  }
 ],
 "metadata": {
  "kernelspec": {
   "display_name": "base",
   "language": "python",
   "name": "python3"
  },
  "language_info": {
   "codemirror_mode": {
    "name": "ipython",
    "version": 3
   },
   "file_extension": ".py",
   "mimetype": "text/x-python",
   "name": "python",
   "nbconvert_exporter": "python",
   "pygments_lexer": "ipython3",
   "version": "3.9.13"
  },
  "orig_nbformat": 4,
  "vscode": {
   "interpreter": {
    "hash": "ad2bdc8ecc057115af97d19610ffacc2b4e99fae6737bb82f5d7fb13d2f2c186"
   }
  }
 },
 "nbformat": 4,
 "nbformat_minor": 2
}
