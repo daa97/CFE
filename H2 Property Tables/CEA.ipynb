{
 "cells": [
  {
   "cell_type": "code",
   "execution_count": 2,
   "metadata": {},
   "outputs": [],
   "source": [
    "import numpy as np, CEAio"
   ]
  },
  {
   "attachments": {},
   "cell_type": "markdown",
   "metadata": {},
   "source": [
    "First we set up the pressure and temperature ranges to serve as our reference points:"
   ]
  },
  {
   "cell_type": "code",
   "execution_count": null,
   "metadata": {},
   "outputs": [],
   "source": [
    "n=40\n",
    "trunc = lambda x: round(x,min(-int(np.floor(np.log10(abs(x))))+4,0))\n",
    "P = np.array([trunc(10**(x/n)) for x in range(2*n,int(7.5*n)+1)]).transpose()\n",
    "T = np.arange(500, 8e3, 5, dtype=int)"
   ]
  },
  {
   "attachments": {},
   "cell_type": "markdown",
   "metadata": {},
   "source": [
    "Next, a series of text files are written to serve as inputs to CEA. Each file contains a subset of pressure and temperature values which can be run in a single batch. CEA is then run several times, once for each file provided:"
   ]
  },
  {
   "cell_type": "code",
   "execution_count": null,
   "metadata": {},
   "outputs": [],
   "source": [
    "files = CEAio.write_inp(P,T)\n",
    "CEAio.run_cea(files)"
   ]
  },
  {
   "attachments": {},
   "cell_type": "markdown",
   "metadata": {},
   "source": [
    "The output files are then read into a dictionary containing a list of the values for each property, and the specific volume is calculated from the density:"
   ]
  },
  {
   "cell_type": "code",
   "execution_count": 2,
   "metadata": {},
   "outputs": [],
   "source": [
    "props = CEAio.read_out(files)\n",
    "props['VOLUME'] = 1/np.array(props[\"RHO, KG/CU M\"])"
   ]
  },
  {
   "attachments": {},
   "cell_type": "markdown",
   "metadata": {},
   "source": [
    "The properties are then indexed by pressure and temperature, and saved into a `.npz` archive."
   ]
  },
  {
   "cell_type": "code",
   "execution_count": 4,
   "metadata": {},
   "outputs": [],
   "source": [
    "tables = CEAio.tabulate(props, P, T)\n",
    "np.savez(\"CEAprops.npz\", **tables)"
   ]
  }
 ],
 "metadata": {
  "kernelspec": {
   "display_name": "base",
   "language": "python",
   "name": "python3"
  },
  "language_info": {
   "codemirror_mode": {
    "name": "ipython",
    "version": 3
   },
   "file_extension": ".py",
   "mimetype": "text/x-python",
   "name": "python",
   "nbconvert_exporter": "python",
   "pygments_lexer": "ipython3",
   "version": "3.9.13"
  },
  "orig_nbformat": 4,
  "vscode": {
   "interpreter": {
    "hash": "ea8238db6dc1fe8cf6fe83219457bde9bcbcde2053d40c59d2e78211d10c5fee"
   }
  }
 },
 "nbformat": 4,
 "nbformat_minor": 2
}
