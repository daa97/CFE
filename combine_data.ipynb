{
 "cells": [
  {
   "cell_type": "code",
   "execution_count": null,
   "metadata": {},
   "outputs": [],
   "source": [
    "import numpy as np, matplotlib.pyplot as plt\n",
    "ref = dict(np.load(\"refprops.npz\", allow_pickle=True))\n",
    "cea = dict(np.load(\"CEAprops.npz\", allow_pickle=True))"
   ]
  },
  {
   "cell_type": "code",
   "execution_count": null,
   "metadata": {},
   "outputs": [],
   "source": [
    "print(ref.keys())\n",
    "print(cea.keys())"
   ]
  },
  {
   "cell_type": "code",
   "execution_count": null,
   "metadata": {},
   "outputs": [],
   "source": [
    "ref2 = dict(); cea2 = dict()\n",
    "map = {'D':'RHO', 'V':'VOLUME', 'E': 'U', 'H':'H', 'S':'S', 'CP':'Cp', 'CP/CV':'GAMMAs', 'W':'SON_VEL', \n",
    "       'M':'M', 'VIS':'VISC', 'TCX':'CONDUCTIVITY', 'PRANDTL':'PRANDTL_NUMBER', 'G':'G'}\n",
    "\n",
    "for refkey, ceakey in map.items():\n",
    "    ref2[ceakey] = ref[refkey]\n",
    "    cea2[ceakey] = cea[ceakey]\n",
    "print(ref2.keys())\n",
    "print(cea2.keys())"
   ]
  },
  {
   "cell_type": "code",
   "execution_count": null,
   "metadata": {},
   "outputs": [],
   "source": [
    "T0 = 40\n",
    "Tf = -1200\n",
    "nk = len(cea2.keys())\n",
    "plt.subplots((nk+2)//3, 3, figsize=(30,30)); j=1\n",
    "for key in cea2.keys():\n",
    "    plt.subplot((nk+2)//3, 3, j); j+=1\n",
    "    for i in range(1,ref2[key].shape[1],15):\n",
    "        plt.plot(ref2[key][T0:,0], ref2[key][T0:,i]) # , label=f\"{ref['H'][0,i]}\"\n",
    "        plt.plot(cea2[key][1:Tf,0], cea2[key][1:Tf,i]) # , label=f\"{cea['H, KJ/KG'][0,i]}\"\n",
    "    plt.title(key)"
   ]
  },
  {
   "cell_type": "code",
   "execution_count": null,
   "metadata": {},
   "outputs": [],
   "source": [
    "tare = ['U', 'H', 'S', 'G']\n",
    "loc = (1000, 1500)\n",
    "idx = lambda arr: (arr>loc[0]) & (arr<loc[1])\n",
    "cea3 = dict()\n",
    "for key in tare:\n",
    "    rnums = ref2[key][1:,1:][idx(ref2[key][1:,0])]\n",
    "    cnums = cea2[key][1:,1:][idx(cea2[key][1:,0])]\n",
    "    diff = np.mean(cnums-rnums)\n",
    "    cea2[key][1:,1:] = cea2[key][1:,1:] - diff"
   ]
  },
  {
   "cell_type": "code",
   "execution_count": null,
   "metadata": {},
   "outputs": [],
   "source": [
    "T0 = 40\n",
    "Tf = -1200\n",
    "plt.subplots((nk+2)//3, 3, figsize=(30,30)); j=1\n",
    "for key in cea2.keys():\n",
    "    plt.subplot((nk+2)//3, 3, j); j+=1\n",
    "    for i in range(1,ref2[key].shape[1],15):\n",
    "        plt.plot(ref2[key][T0:,0], ref2[key][T0:,i]) # , label=f\"{ref['H'][0,i]}\"\n",
    "        plt.plot(cea2[key][1:Tf,0], cea2[key][1:Tf,i]) # , label=f\"{cea['H, KJ/KG'][0,i]}\"\n",
    "    plt.title(key)"
   ]
  },
  {
   "cell_type": "code",
   "execution_count": null,
   "metadata": {},
   "outputs": [],
   "source": [
    "combo = dict()\n",
    "loc = (1000., 1500.)\n",
    "\n",
    "def qual(arr):          # returns pseudo-'quality' value for interpolation. i.e., the proportion of CEA value to use instead of refprop value.\n",
    "    q0 = (arr-loc[0])/(loc[1]-loc[0])\n",
    "    b = [np.zeros(arr.shape), np.ones(arr.shape)]\n",
    "    return np.max((b[0],np.min((b[1],q0), axis=0)), axis=0)\n",
    "\n",
    "for key in cea2.keys():          # for each property\n",
    "    Ts = np.arange(ref2[key][1,0], cea2[key][-1,0]+5,5)     # t-values to index from\n",
    "    q = qual(Ts)                                            # smoothed unit step, goes from 0->1 over temp range given by `loc`\n",
    "    wid = cea2[key].shape[1]                                # number of columns\n",
    "    combo[key] = np.zeros((Ts.shape[0],wid))                \n",
    "    combo[key][:] = np.nan\n",
    "    for i in range(Ts.shape[0]):\n",
    "        refrow = np.where(ref2[key][1:,0]==Ts[i])[0]\n",
    "        cearow = np.where(cea2[key][1:,0]==Ts[i])[0]\n",
    "        if refrow.shape[0]>=1:\n",
    "            r = ref2[key][refrow[0]+1,:]\n",
    "        else:\n",
    "            r = np.zeros((1,wid))\n",
    "        if cearow.shape[0]>=1:\n",
    "            c = cea2[key][cearow[0]+1,:]\n",
    "        else:\n",
    "            c = np.zeros((1,wid))\n",
    "        combo[key][i,:] = q[i]*c + (1-q[i])*r\n",
    "    combo[key] = np.concatenate(([ref2[key][0,:]],combo[key]),axis=0)"
   ]
  },
  {
   "cell_type": "code",
   "execution_count": null,
   "metadata": {},
   "outputs": [],
   "source": [
    "T0 = 10\n",
    "Tf = -1100\n",
    "plt.subplots((nk+2)//3, 3, figsize=(30,30)); j=1\n",
    "for key in cea2.keys():\n",
    "    plt.subplot((nk+2)//3, 3, j); j+=1\n",
    "    for i in range(1,ref2[key].shape[1],15):\n",
    "        plt.plot(combo[key][T0:Tf,0], combo[key][T0:Tf,i]) # , label=f\"{ref['H'][0,i]}\"\n",
    "    plt.title(key)"
   ]
  },
  {
   "cell_type": "code",
   "execution_count": null,
   "metadata": {},
   "outputs": [],
   "source": [
    "import CEAio\n",
    "np.savez(\"H2_compiled.npz\", **combo)\n",
    "CEAio.write_csvs(combo)"
   ]
  }
 ],
 "metadata": {
  "kernelspec": {
   "display_name": "base",
   "language": "python",
   "name": "python3"
  },
  "language_info": {
   "codemirror_mode": {
    "name": "ipython",
    "version": 3
   },
   "file_extension": ".py",
   "mimetype": "text/x-python",
   "name": "python",
   "nbconvert_exporter": "python",
   "pygments_lexer": "ipython3",
   "version": "3.9.13"
  },
  "orig_nbformat": 4,
  "vscode": {
   "interpreter": {
    "hash": "ad2bdc8ecc057115af97d19610ffacc2b4e99fae6737bb82f5d7fb13d2f2c186"
   }
  }
 },
 "nbformat": 4,
 "nbformat_minor": 2
}
