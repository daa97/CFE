{
 "cells": [
  {
   "cell_type": "code",
   "execution_count": 1,
   "metadata": {},
   "outputs": [
    {
     "name": "stdout",
     "output_type": "stream",
     "text": [
      "[100.0, 110.0, 120.0, 132.0, 148.0, 165.0, 180.0, 200.0, 225.0, 250.0, 280.0, 310.0, 350.0, 390.0, 440.0, 490.0, 540.0, 600.0, 670.0, 740.0, 825.0, 910.0, 1000.0, 1100.0, 1200.0, 1320.0, 1480.0, 1650.0, 1800.0, 2000.0, 2250.0, 2500.0, 2800.0, 3100.0, 3500.0, 3900.0, 4400.0, 4900.0, 5400.0, 6000.0, 6700.0, 7400.0, 8250.0, 9100.0, 10000.0, 11000.0, 12000.0, 13200.0, 14800.0, 16500.0, 18000.0, 20000.0, 22500.0, 25000.0, 28000.0, 31000.0, 35000.0, 39000.0, 44000.0, 49000.0, 54000.0, 60000.0, 67000.0, 74000.0, 82500.0, 91000.0, 100000.0, 110000.0, 120000.0, 132000.0, 148000.0, 165000.0, 180000.0, 200000.0, 225000.0, 250000.0, 280000.0, 310000.0, 350000.0, 390000.0, 440000.0, 490000.0, 540000.0, 600000.0, 670000.0, 740000.0, 825000.0, 910000.0, 1000000.0, 1100000.0, 1200000.0, 1320000.0, 1480000.0, 1650000.0, 1800000.0, 2000000.0, 2250000.0, 2500000.0, 2800000.0, 3100000.0, 3500000.0, 3900000.0, 4400000.0, 4900000.0, 5400000.0, 6000000.0, 6700000.0, 7400000.0, 8250000.0, 9100000.0, 10000000.0, 11000000.0, 12000000.0, 13200000.0, 14800000.0, 16500000.0, 18000000.0, 20000000.0, 22500000.0, 25000000.0, 28000000.0, 31000000.0, 35000000.0, 39000000.0, 44000000.0, 49000000.0, 54000000.0, 60000000.0, 67000000.0, 74000000.0, 82500000.0, 91000000.0]\n"
     ]
    }
   ],
   "source": [
    "import numpy as np\n",
    "batch = 15\n",
    "dir = \"CEAexec\\\\CEAexec-win\\\\\"\n",
    "infile = \"template.inp\"\n",
    "\n",
    "\n",
    "# **********Step 1: Create CEA input.inp files***********\n",
    "\n",
    "rang = np.array([[1, 1.1, 1.2, 1.32, 1.48, 1.65, 1.8, 2, 2.25, 2.5, 2.8, 3.1, 3.5, 3.9, 4.4, 4.9, 5.4, 6, 6.7, 7.4, 8.25, 9.1]])\n",
    "P = rang * np.array([[10**x for x in range(2,8)]]).transpose()\n",
    "P = np.round(P, 6)\n",
    "P = P.flatten()\n",
    "T1 = np.arange(200, 1e3, 5, dtype=int)\n",
    "T2 = np.arange(1e3, 8e3, 10, dtype=int)\n",
    "T = np.concatenate((T1, T2))\n",
    "fnames = []\n",
    "print(P.tolist())\n",
    "for i in range(int(np.ceil(len(P)/batch))):\n",
    "    for j in range(int(np.ceil(len(T)/batch))):\n",
    "        Pvals = P[i*batch:min(len(P),(i+1)*batch)]\n",
    "        Tvals = T[j*batch:min(len(T),(j+1)*batch)]\n",
    "        Pstr = ','.join([str(pi) for pi in np.round(Pvals/1e5,6)])\n",
    "        Tstr = ','.join([str(ti) for ti in Tvals.tolist()])\n",
    "        with open(dir+infile, mode='r') as fread:\n",
    "            contents = fread.read()\n",
    "        contents = contents.replace(\"<PYPRES>\", Pstr)\n",
    "        contents = contents.replace(\"<PYTEMP>\", Tstr)\n",
    "        writename = f\"AUTOFILE_P{i}T{j}\"\n",
    "        fnames.append(writename)\n",
    "        with open(dir+writename+'.inp', mode='w') as fwrite:\n",
    "            fwrite.write(contents)"
   ]
  },
  {
   "cell_type": "code",
   "execution_count": 2,
   "metadata": {},
   "outputs": [],
   "source": [
    "# **********Step 2: Run CEA to produce output.out files***********\n",
    "import os\n",
    "import subprocess as sp\n",
    "if not (\"CEAexec-win\" in os.getcwd()):\n",
    "    os.chdir(\"C:/Users/david/OneDrive - Drexel University/Documents/GitHub/CFE/CEAexec/CEAexec-win\")\n",
    "for file in fnames:\n",
    "    sub = sp.run([\"echo\", f\"{file}\", \"|\", \"FCEA2.exe\"], stdout=sp.PIPE, stderr=sp.PIPE, shell=True)\n"
   ]
  },
  {
   "cell_type": "code",
   "execution_count": 29,
   "metadata": {},
   "outputs": [],
   "source": [
    "# **********Step 3: Read output files into dictionary ***********\n",
    "\n",
    "thermo = {\"P, BAR\":[], \"T, K\":[], \"RHO, KG/CU M\":[], \"H, KJ/KG\":[], \"U, KJ/KG\":[], \n",
    "          \"G, KJ/KG\":[], \"S, KJ/(KG)(K)\":[], \"M, (1/n)\":[], \"GAMMAs\":[], \"SON VEL,M/SEC\":[], \"VISC,MILLIPOISE\":[]}\n",
    "\n",
    "thermo_conv = {\"P, BAR\":1e5, \"T, K\":1, \"RHO, KG/CU M\":1, \"H, KJ/KG\":1e3, \"U, KJ/KG\":1e3, \n",
    "          \"G, KJ/KG\":1e3, \"S, KJ/(KG)(K)\":1e3, \"M, (1/n)\":1, \"GAMMAs\":1, \"SON VEL,M/SEC\":1, \"VISC,MILLIPOISE\":1e-4}\n",
    "frozenheader = \"WITH FROZEN REACTIONS\"\n",
    "frozenend = \"THERMODYNAMIC PROPERTIES\"\n",
    "frozen = False\n",
    "transp = {\"Cp, KJ/(KG)(K)\":[], \"CONDUCTIVITY   \":[],\"PRANDTL NUMBER\":[]}\n",
    "transp_conv = {\"Cp, KJ/(KG)(K)\":1e3, \"CONDUCTIVITY   \":1e-1,\"PRANDTL NUMBER\":1}\n",
    "\n",
    "# iterate over output files\n",
    "for f in fnames:\n",
    "\n",
    "    # open each file\n",
    "    with open(f+\".OUT\") as file:\n",
    "        lines = file.readlines()\n",
    "\n",
    "    # iterate over each line of the file\n",
    "    for num in range(len(lines)):\n",
    "        textline = lines[num]\n",
    "        if frozenheader in textline:\n",
    "            frozen = True\n",
    "        elif frozenend in textline:\n",
    "            #print(\"stopped\")\n",
    "            frozen = False\n",
    "\n",
    "        # go through thermodynamic properties\n",
    "        for dictkey, dictvalue in thermo.items():\n",
    "            # Check if the property is references in that line\n",
    "            if dictkey in textline:\n",
    "                if len(textline)>16:\n",
    "                    numtext = textline[16:]\n",
    "                    columns=[]\n",
    "                    for i in range(0,len(numtext)-8,9):\n",
    "                        columns.append(numtext[i:i+9])\n",
    "                else:\n",
    "                    continue\n",
    "                # start \n",
    "                for property_text in columns:\n",
    "                    if property_text[-2]=='-' or property_text[-2]==' ':\n",
    "                        propval = float(property_text[:-2])*10**float(property_text[-2:])\n",
    "                    else:\n",
    "                        propval = float(property_text)\n",
    "                    dictvalue.append(propval * thermo_conv[dictkey])\n",
    "                    \n",
    "\n",
    "        if frozen:\n",
    "            for dictkey, dictvalue in transp.items():\n",
    "                # Check if the property is references in that line\n",
    "                if dictkey in textline:\n",
    "                    if len(textline)>16:\n",
    "                        numtext = textline[16:]\n",
    "                        columns=[]\n",
    "                        for i in range(0,len(numtext)-8,9):\n",
    "                            columns.append(numtext[i:i+9])\n",
    "                    else:\n",
    "                        continue\n",
    "                    # start \n",
    "                    for property_text in columns:\n",
    "                        if \"****\" in property_text:\n",
    "                            print(textline)\n",
    "                        if property_text[-2]=='-' or property_text[-2]==' ':\n",
    "                            propval = float(property_text[:-2])*10**float(property_text[-2:])\n",
    "                        else:\n",
    "                            propval = float(property_text)\n",
    "                            if dictkey==\"Cp, KJ/(KG)(K)\" and propval>100:\n",
    "                                print(num, frozen, textline, propval, f)\n",
    "                        dictvalue.append(propval * transp_conv[dictkey])\n",
    "        \n",
    "#print(max(transp[\"Cp, KJ/(KG)(K)\"]))\n",
    "\n"
   ]
  },
  {
   "cell_type": "code",
   "execution_count": 31,
   "metadata": {},
   "outputs": [
    {
     "name": "stdout",
     "output_type": "stream",
     "text": [
      "IN FUNC\n",
      "(860, 132)\n",
      "Cp.csv\n",
      "(860, 132)\n",
      "CONDUCTIVITY.csv\n",
      "(860, 132)\n",
      "PRANDTL_NUMBER.csv\n"
     ]
    }
   ],
   "source": [
    "# **********Step 4: Organize dictionary into arrays and write to CSVs ***********\n",
    "import csv\n",
    "thermo['VOLUME'] = 1/np.array(thermo[\"RHO, KG/CU M\"])\n",
    "def writecsv(dictionary):\n",
    "    # set up first row and first column containing pressure and temperature values\n",
    "    col1 = np.zeros((len(T),1))\n",
    "    col1[:,0]=T\n",
    "    row1 = np.zeros((1,len(P)+1))\n",
    "    row1[0,1:]=P\n",
    "    print(\"IN FUNC\")\n",
    "    # loop through each property\n",
    "    for key in dictionary.keys():\n",
    "        # create an empty array for property\n",
    "        tab = np.zeros((len(T), len(P)))\n",
    "        tab[:] = np.nan\n",
    "        # do not generate pressure and temperature tables as these serve as our axes\n",
    "        if key!=\"P, BAR\" and key!=\"T, K\":\n",
    "            name = key.split(\",\")[0].strip().replace(\" \", \"_\")\n",
    "            filt = filter(lambda s: str.isalpha(s) or s==\"_\", name)\n",
    "            csv_fname = ''.join(filt) + \".csv\"\n",
    "            # loop through every value of the property\n",
    "            for i in range(len(dictionary[\"P, BAR\"])):\n",
    "                #print(\"FOUND\")\n",
    "                P_idx = np.where(P==np.round(dictionary[\"P, BAR\"][i],4))\n",
    "                T_idx = np.where(T==dictionary[\"T, K\"][i])\n",
    "                tab[T_idx, P_idx] = dictionary[key][i]\n",
    "            print(tab.shape)\n",
    "            tab = np.concatenate((col1,tab), axis=1)\n",
    "            tab = np.concatenate((row1,tab))\n",
    "            print(csv_fname)\n",
    "            with open(csv_fname, mode='w', newline='') as csvfile:\n",
    "                writer = csv.writer(csvfile)\n",
    "                writer.writerows(tab)\n",
    "\n",
    "# add pressure and temperature values to transport dictionary\n",
    "transp[\"P, BAR\"] =thermo[\"P, BAR\"]\n",
    "transp[\"T, K\"] = thermo[\"T, K\"]\n",
    "#writecsv(thermo)\n",
    "writecsv(transp)\n",
    "    \n",
    "    #Ptable = [[P[i*nT+j] for j in range(nP)] for i in range(nT)]\n",
    "    #table = lambda x: np.array([[x[i*nT+j] for j in range(nP)] for i in range(nT)])\n"
   ]
  },
  {
   "cell_type": "code",
   "execution_count": 32,
   "metadata": {},
   "outputs": [
    {
     "name": "stdout",
     "output_type": "stream",
     "text": [
      "[1.00e+02 1.10e+02 1.20e+02 1.32e+02 1.48e+02 1.65e+02 1.80e+02 2.00e+02\n",
      " 2.25e+02 2.50e+02 2.80e+02 3.10e+02 3.50e+02 3.90e+02 4.40e+02 4.90e+02\n",
      " 5.40e+02 6.00e+02 6.70e+02 7.40e+02 8.25e+02 9.10e+02 1.00e+03 1.10e+03\n",
      " 1.20e+03 1.32e+03 1.48e+03 1.65e+03 1.80e+03 2.00e+03 2.25e+03 2.50e+03\n",
      " 2.80e+03 3.10e+03 3.50e+03 3.90e+03 4.40e+03 4.90e+03 5.40e+03 6.00e+03\n",
      " 6.70e+03 7.40e+03 8.25e+03 9.10e+03 1.00e+04 1.10e+04 1.20e+04 1.32e+04\n",
      " 1.48e+04 1.65e+04 1.80e+04 2.00e+04 2.25e+04 2.50e+04 2.80e+04 3.10e+04\n",
      " 3.50e+04 3.90e+04 4.40e+04 4.90e+04 5.40e+04 6.00e+04 6.70e+04 7.40e+04\n",
      " 8.25e+04 9.10e+04 1.00e+05 1.10e+05 1.20e+05 1.32e+05 1.48e+05 1.65e+05\n",
      " 1.80e+05 2.00e+05 2.25e+05 2.50e+05 2.80e+05 3.10e+05 3.50e+05 3.90e+05\n",
      " 4.40e+05 4.90e+05 5.40e+05 6.00e+05 6.70e+05 7.40e+05 8.25e+05 9.10e+05\n",
      " 1.00e+06 1.10e+06 1.20e+06 1.32e+06 1.48e+06 1.65e+06 1.80e+06 2.00e+06\n",
      " 2.25e+06 2.50e+06 2.80e+06 3.10e+06 3.50e+06 3.90e+06 4.40e+06 4.90e+06\n",
      " 5.40e+06 6.00e+06 6.70e+06 7.40e+06 8.25e+06 9.10e+06 1.00e+07 1.10e+07\n",
      " 1.20e+07 1.32e+07 1.48e+07 1.65e+07 1.80e+07 2.00e+07 2.25e+07 2.50e+07\n",
      " 2.80e+07 3.10e+07 3.50e+07 3.90e+07 4.40e+07 4.90e+07 5.40e+07 6.00e+07\n",
      " 6.70e+07 7.40e+07 8.25e+07 9.10e+07]\n"
     ]
    }
   ],
   "source": [
    "print(P)"
   ]
  },
  {
   "cell_type": "code",
   "execution_count": 33,
   "metadata": {},
   "outputs": [],
   "source": [
    "# ************************ Step 5 (Optional): Delete CEA files ************************\n",
    "delete = False\n",
    "if delete:\n",
    "    for file in os.listdir():\n",
    "        if \"AUTOFILE_\" in file:\n",
    "            os.remove(file)\n",
    "            "
   ]
  },
  {
   "cell_type": "code",
   "execution_count": null,
   "metadata": {},
   "outputs": [],
   "source": []
  }
 ],
 "metadata": {
  "kernelspec": {
   "display_name": "base",
   "language": "python",
   "name": "python3"
  },
  "language_info": {
   "codemirror_mode": {
    "name": "ipython",
    "version": 3
   },
   "file_extension": ".py",
   "mimetype": "text/x-python",
   "name": "python",
   "nbconvert_exporter": "python",
   "pygments_lexer": "ipython3",
   "version": "3.9.13 (main, Aug 25 2022, 23:51:50) [MSC v.1916 64 bit (AMD64)]"
  },
  "orig_nbformat": 4,
  "vscode": {
   "interpreter": {
    "hash": "ad2bdc8ecc057115af97d19610ffacc2b4e99fae6737bb82f5d7fb13d2f2c186"
   }
  }
 },
 "nbformat": 4,
 "nbformat_minor": 2
}
