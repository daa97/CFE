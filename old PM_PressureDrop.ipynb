{
 "cells": [
  {
   "cell_type": "code",
   "execution_count": 1,
   "metadata": {},
   "outputs": [],
   "source": [
    "import numpy as np\n",
    "from fluids import *\n"
   ]
  },
  {
   "cell_type": "code",
   "execution_count": 7,
   "metadata": {},
   "outputs": [
    {
     "name": "stdout",
     "output_type": "stream",
     "text": [
      "P2 13750000.0\n",
      "T = 1494.0, P = 13750000.0 MPa\n",
      "\n",
      "rho = 2.230934346062666\n",
      "Q = 0.04841020991523447\n",
      "A = 0.2493796248419578\n",
      "q = 0.1941225549036495\n",
      "mu = 2.7198111909485147e-05\n",
      "k1 = 5.69771546674471e-12\n",
      "k2 = 8.765844420214738e-07\n",
      "P_chamber = 13750000.0\n",
      "P_inlet = 13754089.60037391\n",
      "PM_dP = 4089.60037391074\n"
     ]
    }
   ],
   "source": [
    "PM_OR = 0.049 # PM outer radius [m]\n",
    "PM_IR = 0.045 # PM inner radius [m]\n",
    "U_IR = 0.03 # Uranium layer inner radius [m]\n",
    "U_rho = 8550 # Uranium mixture density [kg/m^3]\n",
    "\n",
    "PM_thick = PM_OR - PM_IR # PM thickness [m]\n",
    "L = 0.81 # CFE length [m]\n",
    "\n",
    "# Define operating conditions\n",
    "w = 7000 * 2*np.pi/60\n",
    "\n",
    "P_centripetal = 3.75e6\n",
    "P_out = 10e6 + P_centripetal # Outlet pressure [MPa]\n",
    "f = H2(T=1494, P=P_out) # Fluid state\n",
    "\n",
    "print(\"P2\", P_out)\n",
    "mflow = 0.108 # Mass flow rate [kg/s]\n",
    "rho = f.rho # Fluid density [kg/m^3]\n",
    "Q = mflow / rho # Volumetric flow rate [m^3/s]\n",
    "A = 2*np.pi*PM_OR*L # Cross sectional area [m^2]\n",
    "q = Q / A # Darcian velocity [m/s]\n",
    "mu = f.mu # Fluid viscosity [Pa * s]\n",
    "\n",
    "k1 = 5.69771546674471E-12 # for 18% open porosity, 35% total\n",
    "k2 = np.exp(-1.71588/(k1**0.08093)) # Correlation from Dey et al.\n",
    "\n",
    "P_inlet = np.sqrt((mu*q/k1 + (rho*q**2)/k2) * 2*P_out*PM_thick + P_out**2) # Inlet pressure to PM [Pa]\n",
    "\n",
    "PM_dP =  P_inlet - P_out # Pressure drop across PM [Pa]\n",
    "\n",
    "\n",
    "print(f\"T = {f.T}, P = {f.P} MPa\\n\")\n",
    "print(f\"rho = {rho}\")\n",
    "print(f\"Q = {Q}\")\n",
    "print(f\"A = {A}\")\n",
    "print(f\"q = {q}\")\n",
    "print(f\"mu = {mu}\")\n",
    "print(f\"k1 = {k1}\")\n",
    "print(f\"k2 = {k2}\")\n",
    "print(f\"P_chamber = {P_out}\")\n",
    "print(f\"P_inlet = {P_inlet}\")\n",
    "print(f\"PM_dP = {PM_dP}\")"
   ]
  }
 ],
 "metadata": {
  "kernelspec": {
   "display_name": "base",
   "language": "python",
   "name": "python3"
  },
  "language_info": {
   "codemirror_mode": {
    "name": "ipython",
    "version": 3
   },
   "file_extension": ".py",
   "mimetype": "text/x-python",
   "name": "python",
   "nbconvert_exporter": "python",
   "pygments_lexer": "ipython3",
   "version": "3.9.13 (main, Aug 25 2022, 23:51:50) [MSC v.1916 64 bit (AMD64)]"
  },
  "orig_nbformat": 4,
  "vscode": {
   "interpreter": {
    "hash": "ea8238db6dc1fe8cf6fe83219457bde9bcbcde2053d40c59d2e78211d10c5fee"
   }
  }
 },
 "nbformat": 4,
 "nbformat_minor": 2
}
