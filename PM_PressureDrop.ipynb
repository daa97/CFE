{
 "cells": [
  {
   "cell_type": "code",
   "execution_count": 3,
   "metadata": {},
   "outputs": [],
   "source": [
    "import numpy as np\n",
    "from fluids import *\n"
   ]
  },
  {
   "cell_type": "code",
   "execution_count": 6,
   "metadata": {},
   "outputs": [
    {
     "name": "stdout",
     "output_type": "stream",
     "text": [
      "T = 450K, P = 12.5 MPa\n",
      "\n",
      "rho = 6.389293864533732\n",
      "Q = 0.01565118182387713\n",
      "A = 0.2493796248419578\n",
      "q = 0.06276046743512399\n",
      "mu = 1.1895048408744165e-05\n",
      "k1 = 5.69771546674471e-12\n",
      "k2 = 8.765844420214738e-07\n",
      "P_chamber = 12182292.90313587\n",
      "P_inlet = 12182931.8228505\n",
      "PM_dP = 638.9197146296501\n"
     ]
    }
   ],
   "source": [
    "PM_OR = 0.049 # PM outer radius [m]\n",
    "PM_IR = 0.045 # PM inner radius [m]\n",
    "U_IR = 0.03 # Uranium layer inner radius [m]\n",
    "U_rho = 8550 # Uranium mixture density [kg/m^3]\n",
    "\n",
    "PM_thick = PM_OR - PM_IR # PM thickness [m]\n",
    "L = 0.81 # CFE length [m]\n",
    "\n",
    "# Define operating conditions\n",
    "w = 7000 * 2*np.pi/60\n",
    "\n",
    "P_centripetal = (2/3)*w**2*np.pi*U_rho*(PM_IR**3 - U_IR**3) / (2*np.pi*PM_IR) # Centripetal pressure from Uranium\n",
    "\n",
    "f = H2(T=450, P=12.5e6) # Fluid state\n",
    "\n",
    "P_out = 10e6 + P_centripetal # Outlet pressure [MPa]\n",
    "mflow = 0.1 # Mass flow rate [kg/s]\n",
    "rho = f.rho # Fluid density [kg/m^3]\n",
    "Q = mflow / rho # Volumetric flow rate [m^3/s]\n",
    "A = 2*np.pi*PM_OR*L # Cross sectional area [m^2]\n",
    "q = Q / A # Darcian velocity [m/s]\n",
    "mu = f.mu # Fluid viscosity [Pa * s]\n",
    "\n",
    "k1 = 5.69771546674471E-12 # for 18% open porosity, 35% total\n",
    "k2 = np.exp(-1.71588/(k1**0.08093)) # Correlation from Dey et al.\n",
    "\n",
    "P_inlet = np.sqrt((mu*q/k1 + (rho*q**2)/k2) * 2*P_out*PM_thick + P_out**2) # Inlet pressure to PM [Pa]\n",
    "\n",
    "PM_dP =  P_inlet - P_out # Pressure drop across PM [Pa]\n",
    "\n",
    "\n",
    "print(f\"T = 450K, P = 12.5 MPa\\n\")\n",
    "print(f\"rho = {rho}\")\n",
    "print(f\"Q = {Q}\")\n",
    "print(f\"A = {A}\")\n",
    "print(f\"q = {q}\")\n",
    "print(f\"mu = {mu}\")\n",
    "print(f\"k1 = {k1}\")\n",
    "print(f\"k2 = {k2}\")\n",
    "print(f\"P_chamber = {P_out}\")\n",
    "print(f\"P_inlet = {P_inlet}\")\n",
    "print(f\"PM_dP = {PM_dP}\")"
   ]
  }
 ],
 "metadata": {
  "kernelspec": {
   "display_name": "Python 3",
   "language": "python",
   "name": "python3"
  },
  "language_info": {
   "codemirror_mode": {
    "name": "ipython",
    "version": 3
   },
   "file_extension": ".py",
   "mimetype": "text/x-python",
   "name": "python",
   "nbconvert_exporter": "python",
   "pygments_lexer": "ipython3",
   "version": "3.9.5"
  },
  "orig_nbformat": 4,
  "vscode": {
   "interpreter": {
    "hash": "11deee8ba0381da4022ec030581b652fdfdc386d108dacfb90414b6f2fb59dc4"
   }
  }
 },
 "nbformat": 4,
 "nbformat_minor": 2
}
