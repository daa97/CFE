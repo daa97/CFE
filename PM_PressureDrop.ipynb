{
 "cells": [
  {
   "cell_type": "code",
   "execution_count": 19,
   "metadata": {},
   "outputs": [],
   "source": [
    "import numpy as np\n",
    "from fluids import *\n"
   ]
  },
  {
   "cell_type": "code",
   "execution_count": 21,
   "metadata": {},
   "outputs": [
    {
     "name": "stdout",
     "output_type": "stream",
     "text": [
      "rho = 6.389293864533732\n",
      "Q = 0.01565118182387713\n",
      "A = 0.2493796248419578\n",
      "q = 0.06276046743512399\n",
      "mu = 1.1895048408744165e-05\n",
      "k1 = 5.07926338073061e-13\n",
      "k2 = 4.303743771287432e-08\n",
      "P_chamber = 10000000.0\n",
      "P_inlet = 10008214.782742126\n",
      "PM_dP = 8214.782742125914\n"
     ]
    }
   ],
   "source": [
    "PM_OR = 0.049 # PM outer radius [m]\n",
    "PM_IR = 0.045 # PM inner radius [m]\n",
    "PM_thick = PM_OR - PM_IR # PM thickness [m]\n",
    "L = 0.81 # CFE length [m]\n",
    "\n",
    "# Define operating conditions\n",
    "f = H2(T=450, P=12.5e6) # Fluid state\n",
    "\n",
    "P_chamber = 10e6 # Chamber pressure [MPa]\n",
    "mflow = 0.1 # Mass flow rate [kg/s]\n",
    "rho = f.rho # Fluid density [kg/m^3]\n",
    "Q = mflow / rho # Volumetric flow rate [m^3/s]\n",
    "A = 2*np.pi*PM_OR*L # Cross sectional area [m^2]\n",
    "q = Q / A # Darcian velocity [m/s]\n",
    "mu = f.mu # Fluid viscosity [Pa * s]\n",
    "\n",
    "k1 = 5.07926338073061E-13 # for 18% porosity\n",
    "k2 = np.exp(-1.71588/(k1**0.08093)) # Correlation from Dey et al.\n",
    "\n",
    "P_inlet = np.sqrt((mu*q/k1 + (rho*q**2)/k2) * 2*P_chamber*PM_thick + P_chamber**2) # Inlet pressure to PM [Pa]\n",
    "\n",
    "PM_dP =  P_inlet - P_chamber # Pressure drop across PM [Pa]\n",
    "\n",
    "print(f\"rho = {rho}\")\n",
    "print(f\"Q = {Q}\")\n",
    "print(f\"A = {A}\")\n",
    "print(f\"q = {q}\")\n",
    "print(f\"mu = {mu}\")\n",
    "print(f\"k1 = {k1}\")\n",
    "print(f\"k2 = {k2}\")\n",
    "print(f\"P_chamber = {P_chamber}\")\n",
    "print(f\"P_inlet = {P_inlet}\")\n",
    "print(f\"PM_dP = {PM_dP}\")"
   ]
  }
 ],
 "metadata": {
  "kernelspec": {
   "display_name": "Python 3",
   "language": "python",
   "name": "python3"
  },
  "language_info": {
   "codemirror_mode": {
    "name": "ipython",
    "version": 3
   },
   "file_extension": ".py",
   "mimetype": "text/x-python",
   "name": "python",
   "nbconvert_exporter": "python",
   "pygments_lexer": "ipython3",
   "version": "3.9.5"
  },
  "orig_nbformat": 4,
  "vscode": {
   "interpreter": {
    "hash": "11deee8ba0381da4022ec030581b652fdfdc386d108dacfb90414b6f2fb59dc4"
   }
  }
 },
 "nbformat": 4,
 "nbformat_minor": 2
}
